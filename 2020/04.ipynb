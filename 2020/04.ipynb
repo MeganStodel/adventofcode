{
 "cells": [
  {
   "cell_type": "markdown",
   "metadata": {},
   "source": [
    "## Part 1\n",
    "\n",
    "Count the number of valid passports - those that have all required fields. Treat cid as optional. In your batch file, how many passports are valid?"
   ]
  },
  {
   "cell_type": "code",
   "execution_count": 1,
   "metadata": {},
   "outputs": [],
   "source": [
    "import pandas as pd\n",
    "import re"
   ]
  },
  {
   "cell_type": "code",
   "execution_count": 2,
   "metadata": {},
   "outputs": [],
   "source": [
    "# Read in data\n",
    "\n",
    "with open('04input.txt', 'r') as file:\n",
    "    input_list = [' '.join(x.split('\\n')) for x in file.read().split('\\n\\n')]\n",
    "        "
   ]
  },
  {
   "cell_type": "code",
   "execution_count": 3,
   "metadata": {},
   "outputs": [],
   "source": [
    "# Into a df\n",
    "\n",
    "entries_df = pd.DataFrame(input_list, columns=['entry'])"
   ]
  },
  {
   "cell_type": "code",
   "execution_count": 4,
   "metadata": {},
   "outputs": [],
   "source": [
    "# Cols indicating if field exists\n",
    "\n",
    "fields = ['byr', 'iyr', 'eyr', 'hgt', 'hcl', 'ecl', 'pid', 'cid']\n",
    "relevant_fields = ['byr', 'iyr', 'eyr', 'hgt', 'hcl', 'ecl', 'pid']\n",
    "\n",
    "for field in fields:\n",
    "    entries_df[field] = entries_df.apply(lambda x: field in x['entry'], axis=1)"
   ]
  },
  {
   "cell_type": "code",
   "execution_count": 5,
   "metadata": {},
   "outputs": [
    {
     "name": "stdout",
     "output_type": "stream",
     "text": [
      "Number of valid passports: 242\n"
     ]
    }
   ],
   "source": [
    "print(f'Number of valid passports: {len(entries_df[entries_df[relevant_fields].all(axis=1)])}')"
   ]
  },
  {
   "cell_type": "markdown",
   "metadata": {},
   "source": [
    "## Part 2\n",
    "\n",
    "You can continue to ignore the cid field, but each other field has strict rules about what values are valid for automatic validation:\n",
    "\n",
    "byr (Birth Year) - four digits; at least 1920 and at most 2002.\n",
    "\n",
    "iyr (Issue Year) - four digits; at least 2010 and at most 2020.\n",
    "\n",
    "eyr (Expiration Year) - four digits; at least 2020 and at most 2030.\n",
    "\n",
    "hgt (Height) - a number followed by either cm or in:\n",
    "If cm, the number must be at least 150 and at most 193.\n",
    "If in, the number must be at least 59 and at most 76.\n",
    "\n",
    "hcl (Hair Color) - a # followed by exactly six characters 0-9 or a-f.\n",
    "\n",
    "ecl (Eye Color) - exactly one of: amb blu brn gry grn hzl oth.\n",
    "\n",
    "pid (Passport ID) - a nine-digit number, including leading zeroes.\n",
    "\n",
    "cid (Country ID) - ignored, missing or not.\n",
    "\n",
    "Your job is to count the passports where all required fields are both present and valid according to the above rules."
   ]
  },
  {
   "cell_type": "code",
   "execution_count": 6,
   "metadata": {},
   "outputs": [],
   "source": [
    "def valid_number(text, regex, low, high):\n",
    "    try:\n",
    "        found = int(re.search(regex, text).group(1))\n",
    "    except:\n",
    "        return False\n",
    "    if (found >= low) and (found <= high):\n",
    "        return True\n",
    "    else:\n",
    "        return False"
   ]
  },
  {
   "cell_type": "code",
   "execution_count": 7,
   "metadata": {},
   "outputs": [],
   "source": [
    "def valid_hgt(text):\n",
    "    try:\n",
    "        num = int(re.search('(?<=hgt:)([0-9]{2,3})([ci][mn])', text).group(1))\n",
    "        measure = re.search('(?<=hgt:)([0-9]{2,3})([ci][mn])', text).group(2)\n",
    "    except:\n",
    "        return False\n",
    "    if (measure == 'cm') and (num >= 150) and (num <= 193):\n",
    "        return True\n",
    "    elif(measure == 'in') and (num >= 59) and (num <= 76):\n",
    "        return True\n",
    "    else:\n",
    "        return False"
   ]
  },
  {
   "cell_type": "code",
   "execution_count": 8,
   "metadata": {},
   "outputs": [],
   "source": [
    "def valid_hcl(text):\n",
    "    if re.search('(?<=hcl:)(#[A-z0-9]{6})(?![A-z0-9])', text):\n",
    "        return True\n",
    "    else:\n",
    "        return False"
   ]
  },
  {
   "cell_type": "code",
   "execution_count": 9,
   "metadata": {},
   "outputs": [],
   "source": [
    "def valid_ecl(text):\n",
    "    valid_colours = ['amb', 'blu', 'brn', 'gry', 'grn', 'hzl', 'oth']\n",
    "    try:\n",
    "        found = re.search('(?<=ecl:)([a-z]{3})(?![a-z])', text).group(1)\n",
    "    except:\n",
    "        return False\n",
    "    if found in valid_colours:\n",
    "        return True\n",
    "    else:\n",
    "        return False"
   ]
  },
  {
   "cell_type": "code",
   "execution_count": 10,
   "metadata": {},
   "outputs": [],
   "source": [
    "def valid_pid(text):\n",
    "    try:\n",
    "        found = int(re.search('(?<=pid:)(\\d{9})(?![0-9])', text).group(1))\n",
    "        return True\n",
    "    except:\n",
    "        return False\n"
   ]
  },
  {
   "cell_type": "code",
   "execution_count": 11,
   "metadata": {},
   "outputs": [],
   "source": [
    "entries_df['byr_valid'] = entries_df.apply(lambda x: valid_number(x['entry'], '(?<=byr:)(\\d{4})', 1920, 2002), axis=1)\n",
    "entries_df['iyr_valid'] = entries_df.apply(lambda x: valid_number(x['entry'], '(?<=iyr:)(\\d{4})', 2010, 2020), axis=1)\n",
    "entries_df['eyr_valid'] = entries_df.apply(lambda x: valid_number(x['entry'], '(?<=eyr:)(\\d{4})', 2020, 2030), axis=1)\n",
    "entries_df['hgt_valid'] = entries_df.apply(lambda x: valid_hgt(x['entry']), axis=1)\n",
    "entries_df['hcl_valid'] = entries_df.apply(lambda x: valid_hcl(x['entry']), axis=1)\n",
    "entries_df['ecl_valid'] = entries_df.apply(lambda x: valid_ecl(x['entry']), axis=1)\n",
    "entries_df['pid_valid'] = entries_df.apply(lambda x: valid_pid(x['entry']), axis=1)"
   ]
  },
  {
   "cell_type": "code",
   "execution_count": 12,
   "metadata": {},
   "outputs": [],
   "source": [
    "relevant_fields_new = [field + '_valid' for field in relevant_fields]"
   ]
  },
  {
   "cell_type": "code",
   "execution_count": 13,
   "metadata": {},
   "outputs": [
    {
     "name": "stdout",
     "output_type": "stream",
     "text": [
      "Number of valid passports: 186\n"
     ]
    }
   ],
   "source": [
    "print(f'Number of valid passports: {len(entries_df[entries_df[relevant_fields_new].all(axis=1)])}')"
   ]
  }
 ],
 "metadata": {
  "kernelspec": {
   "display_name": "Python 3",
   "language": "python",
   "name": "python3"
  },
  "language_info": {
   "codemirror_mode": {
    "name": "ipython",
    "version": 3
   },
   "file_extension": ".py",
   "mimetype": "text/x-python",
   "name": "python",
   "nbconvert_exporter": "python",
   "pygments_lexer": "ipython3",
   "version": "3.8.3"
  }
 },
 "nbformat": 4,
 "nbformat_minor": 4
}
