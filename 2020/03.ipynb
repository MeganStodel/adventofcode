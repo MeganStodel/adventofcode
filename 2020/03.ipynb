{
 "cells": [
  {
   "cell_type": "markdown",
   "metadata": {},
   "source": [
    "## Part 1\n",
    "\n",
    "You start on the open square (.) in the top-left corner and need to reach the bottom (below the bottom-most row on your map).\n",
    "\n",
    "Starting at the top-left corner of your map and following a slope of right 3 and down 1, how many trees would you encounter?\n"
   ]
  },
  {
   "cell_type": "code",
   "execution_count": 1,
   "metadata": {},
   "outputs": [],
   "source": [
    "import numpy as np"
   ]
  },
  {
   "cell_type": "code",
   "execution_count": 2,
   "metadata": {},
   "outputs": [],
   "source": [
    "input_list_str = open(\"03input.txt\").readlines()\n",
    "input_list = [line.replace('\\n', '') for line in input_list_str]"
   ]
  },
  {
   "cell_type": "code",
   "execution_count": 3,
   "metadata": {},
   "outputs": [],
   "source": [
    "def check_for_trees(input_list, across_move, down_move):\n",
    "    \n",
    "    # How many times must the input be appended to the right?\n",
    "\n",
    "    length_of_input = len(input_list)\n",
    "    width_of_input = len(input_list[0])\n",
    "\n",
    "    repetitions = int(np.ceil(length_of_input/width_of_input))*across_move\n",
    "\n",
    "    # Expand input so it is wide enough\n",
    "\n",
    "    wide_input = [line*repetitions for line in input_list]\n",
    "\n",
    "    across = 0\n",
    "    down = 0\n",
    "    trees = 0\n",
    "\n",
    "    while down < length_of_input-1:\n",
    "        across = across + across_move\n",
    "        down = down + down_move\n",
    "        path_object = wide_input[down][across]\n",
    "        if path_object == \"#\":\n",
    "            trees = trees + 1\n",
    "    \n",
    "    return(trees)"
   ]
  },
  {
   "cell_type": "code",
   "execution_count": 4,
   "metadata": {},
   "outputs": [
    {
     "data": {
      "text/plain": [
       "223"
      ]
     },
     "execution_count": 4,
     "metadata": {},
     "output_type": "execute_result"
    }
   ],
   "source": [
    "check_for_trees(input_list, 3, 1)"
   ]
  },
  {
   "cell_type": "markdown",
   "metadata": {},
   "source": [
    "### Part 2\n",
    "\n",
    "Determine the number of trees you would encounter if, for each of the following slopes, you start at the top-left corner and traverse the map all the way to the bottom:\n",
    "\n",
    "Right 1, down 1.\n",
    "\n",
    "Right 3, down 1. (This is the slope you already checked.)\n",
    "\n",
    "Right 5, down 1.\n",
    "\n",
    "Right 7, down 1.\n",
    "\n",
    "Right 1, down 2.\n",
    "\n",
    "In the above example, these slopes would find 2, 7, 3, 4, and 2 tree(s) respectively; multiplied together, these produce the answer 336.\n",
    "\n",
    "What do you get if you multiply together the number of trees encountered on each of the listed slopes?"
   ]
  },
  {
   "cell_type": "code",
   "execution_count": 5,
   "metadata": {},
   "outputs": [
    {
     "data": {
      "text/plain": [
       "3517401300"
      ]
     },
     "execution_count": 5,
     "metadata": {},
     "output_type": "execute_result"
    }
   ],
   "source": [
    "check_for_trees(input_list, 1, 1) * check_for_trees(input_list, 3, 1) * check_for_trees(input_list, 5, 1) * check_for_trees(input_list, 7, 1) * check_for_trees(input_list, 1, 2)"
   ]
  }
 ],
 "metadata": {
  "kernelspec": {
   "display_name": "Python 3",
   "language": "python",
   "name": "python3"
  },
  "language_info": {
   "codemirror_mode": {
    "name": "ipython",
    "version": 3
   },
   "file_extension": ".py",
   "mimetype": "text/x-python",
   "name": "python",
   "nbconvert_exporter": "python",
   "pygments_lexer": "ipython3",
   "version": "3.8.3"
  }
 },
 "nbformat": 4,
 "nbformat_minor": 4
}
