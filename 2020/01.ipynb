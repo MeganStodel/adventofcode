{
 "cells": [
  {
   "cell_type": "markdown",
   "metadata": {},
   "source": [
    "## Find the two entries that sum to 2020 and then multiply those two numbers together."
   ]
  },
  {
   "cell_type": "code",
   "execution_count": 1,
   "metadata": {},
   "outputs": [],
   "source": [
    "input_list_str = open(\"01a-input.txt\").readlines()\n",
    "input_list = [int(num.replace('\\n', '')) for num in input_list_str]"
   ]
  },
  {
   "cell_type": "code",
   "execution_count": 2,
   "metadata": {},
   "outputs": [
    {
     "name": "stdout",
     "output_type": "stream",
     "text": [
      "Success! The numbers are 527 and 1493\n",
      "786811\n"
     ]
    }
   ],
   "source": [
    "num_numbers = len(input_list)\n",
    "\n",
    "for i, num in enumerate(input_list):\n",
    "    for other_num in range(i+1, num_numbers):\n",
    "        if num + input_list[other_num] == 2020:\n",
    "            print(f\"Success! The numbers are {num} and {input_list[other_num]}\")\n",
    "            print(num * input_list[other_num])\n"
   ]
  },
  {
   "cell_type": "markdown",
   "metadata": {},
   "source": [
    "## Find the three entries that sum to 2020 and then multiply those two numbers together."
   ]
  },
  {
   "cell_type": "code",
   "execution_count": 3,
   "metadata": {},
   "outputs": [
    {
     "name": "stdout",
     "output_type": "stream",
     "text": [
      "Success! The numbers are 1111 and 289 and 620\n",
      "199068980\n"
     ]
    }
   ],
   "source": [
    "num_numbers = len(input_list)\n",
    "\n",
    "for i, num in enumerate(input_list):\n",
    "    for num2 in range(i+1, num_numbers):\n",
    "        for num3 in range(num2+1, num_numbers):\n",
    "            if num + input_list[num2] + input_list[num3] == 2020:\n",
    "                print(f\"Success! The numbers are {num} and {input_list[num2]} and {input_list[num3]}\")\n",
    "                print(num * input_list[num2] * input_list[num3])\n",
    "\n"
   ]
  }
 ],
 "metadata": {
  "kernelspec": {
   "display_name": "Python 3",
   "language": "python",
   "name": "python3"
  },
  "language_info": {
   "codemirror_mode": {
    "name": "ipython",
    "version": 3
   },
   "file_extension": ".py",
   "mimetype": "text/x-python",
   "name": "python",
   "nbconvert_exporter": "python",
   "pygments_lexer": "ipython3",
   "version": "3.8.3"
  }
 },
 "nbformat": 4,
 "nbformat_minor": 4
}
